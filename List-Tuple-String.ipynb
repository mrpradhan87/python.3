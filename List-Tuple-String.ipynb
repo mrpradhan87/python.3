{
 "cells": [
  {
   "cell_type": "code",
   "execution_count": null,
   "metadata": {},
   "outputs": [],
   "source": [
    "a = ['spam', 'eggs', 100, 1234, 2*2]\n",
    "print(a[0])\n",
    "print(a[:4])"
   ]
  },
  {
   "cell_type": "code",
   "execution_count": null,
   "metadata": {},
   "outputs": [],
   "source": [
    "a[2] = a[2] + 23"
   ]
  },
  {
   "cell_type": "code",
   "execution_count": null,
   "metadata": {},
   "outputs": [],
   "source": [
    "a[0:2] = [1,12]"
   ]
  },
  {
   "cell_type": "code",
   "execution_count": null,
   "metadata": {},
   "outputs": [],
   "source": [
    "print(a)"
   ]
  },
  {
   "cell_type": "code",
   "execution_count": null,
   "metadata": {},
   "outputs": [],
   "source": [
    "a[0:1] = []"
   ]
  },
  {
   "cell_type": "code",
   "execution_count": null,
   "metadata": {},
   "outputs": [],
   "source": [
    "lis = [ 1, [5, 6], 7]\n",
    "print(lis[1][1])"
   ]
  },
  {
   "cell_type": "code",
   "execution_count": null,
   "metadata": {},
   "outputs": [],
   "source": [
    "list = range(3)"
   ]
  },
  {
   "cell_type": "code",
   "execution_count": null,
   "metadata": {},
   "outputs": [],
   "source": [
    "friends = ['Joseph', 'Glenn', 'Sally']\n",
    "for friend in friends :\n",
    "    print('Happy New Year:',  friend)"
   ]
  },
  {
   "cell_type": "code",
   "execution_count": null,
   "metadata": {},
   "outputs": [],
   "source": [
    "for i in range(len(friends)) :\n",
    "    friend = friends[i]\n",
    "    print('Happy New Year:',  friend)"
   ]
  },
  {
   "cell_type": "code",
   "execution_count": null,
   "metadata": {},
   "outputs": [],
   "source": [
    "friends.sort(reverse=True)\n",
    "print(friends)\n",
    "print(friends[1])"
   ]
  },
  {
   "cell_type": "code",
   "execution_count": null,
   "metadata": {},
   "outputs": [],
   "source": [
    "friends.sort(reverse=True)\n",
    "print(friends)\n",
    "print(friends[1])"
   ]
  },
  {
   "cell_type": "code",
   "execution_count": null,
   "metadata": {},
   "outputs": [],
   "source": [
    "t = [9, 41, 12, 3, 74, 15]\n",
    "t[::-2]"
   ]
  },
  {
   "cell_type": "code",
   "execution_count": null,
   "metadata": {},
   "outputs": [],
   "source": [
    "stuff = list()\n",
    "stuff.append('book')\n",
    "stuff.append(99)\n",
    "print(stuff)\n",
    "stuff.append('cookie')\n",
    "print(stuff)"
   ]
  },
  {
   "cell_type": "code",
   "execution_count": null,
   "metadata": {},
   "outputs": [],
   "source": [
    "fruit = 'Banana'\n",
    "#fruit[0] = 'b'\n",
    "x = fruit.lower()\n",
    "print(x)"
   ]
  },
  {
   "cell_type": "code",
   "execution_count": null,
   "metadata": {},
   "outputs": [],
   "source": [
    "total = 0\n",
    "count = 0\n",
    "while True :\n",
    "    inp = input('Enter a number: ')\n",
    "    if inp == 'done' : \n",
    "        break\n",
    "    value = float(inp)\n",
    "    total = total + value     \n",
    "    count = count + 1\n",
    "average = total / count\n",
    "print('Average:', average)"
   ]
  },
  {
   "cell_type": "code",
   "execution_count": null,
   "metadata": {},
   "outputs": [],
   "source": [
    "nums = [3, 41, 12, 9, 74, 15]\n",
    "print(len(nums))\n",
    "print(max(nums))\n",
    "print(min(nums))\n",
    "print(sum(nums))\n",
    "print(sum(nums)/len(nums))"
   ]
  },
  {
   "cell_type": "code",
   "execution_count": null,
   "metadata": {},
   "outputs": [],
   "source": [
    "abc = 'With three words'\n",
    "stuff = abc.split('h')\n",
    "print(stuff)\n",
    "print(len(stuff))\n",
    "print(stuff[0])"
   ]
  },
  {
   "cell_type": "code",
   "execution_count": null,
   "metadata": {},
   "outputs": [],
   "source": [
    "line = 'From salman.amir@gmail.com Sat Jan  5 09:14:16 2020'\n",
    "words = line.split()\n",
    "print(words)\n",
    "email = words[1]\n",
    "print(email)\n",
    "pieces = email.split('@')\n",
    "print(pieces[1])"
   ]
  },
  {
   "cell_type": "code",
   "execution_count": null,
   "metadata": {},
   "outputs": [],
   "source": [
    "d = { \"foo\" : 1, \"bar\" : 2 }\n",
    "print(d[\"bar\"])   # 2\n",
    "some_dict = {}\n",
    "some_dict[\"foo\"] = \"yow!\"\n",
    "some_dict[\"bar\"] = \"Dog!\"\n",
    "print(some_dict.keys()) # [\"foo\"]"
   ]
  },
  {
   "cell_type": "code",
   "execution_count": null,
   "metadata": {},
   "outputs": [],
   "source": [
    "list"
   ]
  },
  {
   "cell_type": "code",
   "execution_count": null,
   "metadata": {},
   "outputs": [],
   "source": [
    "friends = ['Joseph', 'Glenn', 'Sally']\n",
    "for friend in friends :\n",
    "    print('Happy New Year:',  friend)\n"
   ]
  },
  {
   "cell_type": "code",
   "execution_count": null,
   "metadata": {},
   "outputs": [],
   "source": [
    "for i in range(len(friends)) :\n",
    "    print(len(friends))\n",
    "    print(i)\n",
    "    friend = friends[i]\n",
    "    print('Happy New Year:',  friend)"
   ]
  },
  {
   "cell_type": "code",
   "execution_count": null,
   "metadata": {},
   "outputs": [],
   "source": [
    "total = 0\n",
    "count = 0\n",
    "while True :\n",
    "    inp = input('Enter a number: ')\n",
    "    if inp == 'done' : \n",
    "        break\n",
    "    value = float(inp)\n",
    "    total = total + value     \n",
    "    count = count + 1"
   ]
  },
  {
   "cell_type": "code",
   "execution_count": null,
   "metadata": {},
   "outputs": [],
   "source": [
    "print(count)"
   ]
  },
  {
   "cell_type": "code",
   "execution_count": null,
   "metadata": {},
   "outputs": [],
   "source": [
    "print(total)\n",
    "average = total / count\n",
    "print('Average:', average)"
   ]
  },
  {
   "cell_type": "code",
   "execution_count": null,
   "metadata": {},
   "outputs": [],
   "source": [
    "line = 'From salman.amir@gmail.com Sat Jan  5 09:14:16 2020'\n",
    "words = line.split()\n",
    "words"
   ]
  },
  {
   "cell_type": "code",
   "execution_count": null,
   "metadata": {},
   "outputs": [],
   "source": [
    "email = words[1]\n",
    "print(email)"
   ]
  },
  {
   "cell_type": "code",
   "execution_count": null,
   "metadata": {},
   "outputs": [],
   "source": [
    "pieces = email.split('@')\n",
    "print(pieces[1])"
   ]
  },
  {
   "cell_type": "code",
   "execution_count": null,
   "metadata": {},
   "outputs": [],
   "source": [
    "a = (123, 54, 92) # tuple of 3 integers\n",
    "b = () # empty tuple\n",
    "c = (\"Ala\",) # tuple of a single string (note the trailing \",\")\n",
    "d = (2, 3, False, \"Arg\", None) # a tuple of mixed types\n",
    "\n",
    "print(a)\n",
    "print(b)\n",
    "print(c)\n",
    "print(d)"
   ]
  },
  {
   "cell_type": "code",
   "execution_count": null,
   "metadata": {},
   "outputs": [],
   "source": [
    "x = 1.2\n",
    "y = -0.3\n",
    "z = 0.9\n",
    "t = (x, y, z)\n",
    "\n",
    "print(t)"
   ]
  },
  {
   "cell_type": "code",
   "execution_count": null,
   "metadata": {},
   "outputs": [],
   "source": [
    "x,y,z = 10,20,30"
   ]
  },
  {
   "cell_type": "code",
   "execution_count": null,
   "metadata": {},
   "outputs": [],
   "source": [
    "l = 2, 3, \"Hi\", [1,2,3] # tuple packing\n",
    "print(type(l))\n",
    "print('l is', l)\n",
    "x, y, z, a = l # tuple unpacking\n",
    "print('x is', x)\n",
    "print('y is', y)\n",
    "print('z is', z)\n",
    "print('a is', a)"
   ]
  },
  {
   "cell_type": "code",
   "execution_count": null,
   "metadata": {},
   "outputs": [],
   "source": [
    "print(type(l))"
   ]
  },
  {
   "cell_type": "code",
   "execution_count": null,
   "metadata": {},
   "outputs": [],
   "source": [
    "l[3]"
   ]
  },
  {
   "cell_type": "code",
   "execution_count": null,
   "metadata": {},
   "outputs": [],
   "source": [
    "a = [1, 3, 9, 'Py', 217.213]\n",
    "b = [\"Python\"]\n",
    "c = []\n",
    "\n",
    "print(a)\n",
    "print(b)\n",
    "print(c)"
   ]
  },
  {
   "cell_type": "code",
   "execution_count": null,
   "metadata": {},
   "outputs": [],
   "source": [
    "matrix = [[input(),input()], [input(),input()]]\n",
    "print(matrix)"
   ]
  },
  {
   "cell_type": "code",
   "execution_count": null,
   "metadata": {},
   "outputs": [],
   "source": [
    "a = (1, 4, 9, 16)     # A tuple of numbers\n",
    "b = ['A','B','C','d'] # A list of characters\n",
    "print(a)\n",
    "print(b)\n",
    "l = list(a)   # Make a list based on a tuple \n",
    "print(l)\n",
    "t = tuple(b)  # Make a tuple based on a list\n",
    "print(t)"
   ]
  },
  {
   "cell_type": "code",
   "execution_count": null,
   "metadata": {},
   "outputs": [],
   "source": [
    "print(id(a))\n",
    "print(id(l))\n",
    "print(id(b))\n",
    "print(id(t))"
   ]
  },
  {
   "cell_type": "code",
   "execution_count": null,
   "metadata": {},
   "outputs": [],
   "source": [
    "t = (123, 54, 92, 87, 33)\n",
    "x = [123, 54, 92, 87, 33]\n",
    "\n",
    "print('t is', t)\n",
    "print('t[0] is', t[0])\n",
    "print('t[2] is', t[2])\n",
    "\n",
    "print('x is', x)\n",
    "print('x[-1] is', x[-1])"
   ]
  },
  {
   "cell_type": "code",
   "execution_count": null,
   "metadata": {},
   "outputs": [],
   "source": [
    "t = (123, 54, 92, 87, 33)\n",
    "x = [123, 54, 92, 87, 33]\n",
    "print('t[1:3] is', t[1:3])\n",
    "print('x[2:] is', x[2:])\n",
    "print('x[:-1] is', x[:-1])"
   ]
  },
  {
   "cell_type": "code",
   "execution_count": null,
   "metadata": {},
   "outputs": [],
   "source": [
    "t = (123, 54, 92, 87, 33)\n",
    "x = [123, 54, 92, 87, 33]\n",
    "print('123 in', x, 123 in x)\n",
    "print('234 in', t, 234 in t)\n",
    "print('999 not in', x, 999 not in x)"
   ]
  },
  {
   "cell_type": "code",
   "execution_count": null,
   "metadata": {},
   "outputs": [],
   "source": [
    "a = [1, 2, 3, 4, 5]\n",
    "\n",
    "a[2:]"
   ]
  },
  {
   "cell_type": "code",
   "execution_count": null,
   "metadata": {},
   "outputs": [],
   "source": [
    "t = (123, 54, 92, 87, 33)\n",
    "x = [123, 54, 92, 87, 33]\n",
    "print(\"length of t is\", len(t))\n",
    "print(\"number of 33s in x is\", x.count(33))"
   ]
  },
  {
   "cell_type": "code",
   "execution_count": null,
   "metadata": {},
   "outputs": [],
   "source": [
    "x = [123, 54, 92, 87, 33]\n",
    "print(x)\n",
    "x[2] = 33\n",
    "print(x)"
   ]
  },
  {
   "cell_type": "code",
   "execution_count": null,
   "metadata": {},
   "outputs": [],
   "source": [
    "t = (123, 54, 92, 87, 33)\n",
    "print(t)\n",
    "t[1] = 4"
   ]
  },
  {
   "cell_type": "code",
   "execution_count": null,
   "metadata": {},
   "outputs": [],
   "source": [
    "x = [123, 54, 92, 87, 33]\n",
    "x.append(101)\n",
    "print(x)"
   ]
  },
  {
   "cell_type": "code",
   "execution_count": null,
   "metadata": {},
   "outputs": [],
   "source": [
    "x = [123, 54, 92, 87, 33]\n",
    "x.insert(3, 1111)\n",
    "print(x)"
   ]
  },
  {
   "cell_type": "code",
   "execution_count": null,
   "metadata": {},
   "outputs": [],
   "source": [
    "x = [123, 54, 92, 87, 33]\n",
    "x.remove(123)\n",
    "print(x)"
   ]
  },
  {
   "cell_type": "code",
   "execution_count": null,
   "metadata": {},
   "outputs": [],
   "source": [
    "x = [123, 54, 92, 87, 33]\n",
    "print(x)\n",
    "del x[0]\n",
    "print(x)"
   ]
  },
  {
   "cell_type": "code",
   "execution_count": null,
   "metadata": {},
   "outputs": [],
   "source": [
    "a = [1,2,3]\n",
    "b = [4,5,6]\n",
    "c = \"Hi\"\n",
    "a.extend(b)\n",
    "print(a)\n",
    "a.append(b)\n",
    "print(a)\n",
    "a.append(c)\n",
    "print(a)"
   ]
  },
  {
   "cell_type": "code",
   "execution_count": null,
   "metadata": {},
   "outputs": [],
   "source": [
    "a = [1, 2, 3]\n",
    "b = [4, 5, 6]\n",
    "a = a + b\n",
    "print(a)"
   ]
  },
  {
   "cell_type": "code",
   "execution_count": 7,
   "metadata": {},
   "outputs": [
    {
     "name": "stdout",
     "output_type": "stream",
     "text": [
      "[1, 2, 3, ([9, 9, 9, 9], [9, 9, 9, 9, 8, 'hi']), 5, 6]\n",
      "hi\n"
     ]
    }
   ],
   "source": [
    "a = [1, 2, 3, 4, 5, 6]\n",
    "a[-3] = [9, 9, 9, 9],[9, 9, 9, 9,(8),'hi']\n",
    "print(a)\n",
    "print(a[3][1][5])"
   ]
  },
  {
   "cell_type": "code",
   "execution_count": null,
   "metadata": {},
   "outputs": [],
   "source": [
    "x,y,z = 10,20,30"
   ]
  },
  {
   "cell_type": "code",
   "execution_count": 10,
   "metadata": {},
   "outputs": [
    {
     "name": "stdout",
     "output_type": "stream",
     "text": [
      "[2, 4, 6, 5, 3, 1]\n",
      "None\n",
      "[1, 2, 3, 4, 5, 6]\n",
      "None\n"
     ]
    }
   ],
   "source": [
    "a = [1, 3, 5,6, 4, 2]\n",
    "a.reverse()\n",
    "print(a)\n",
    "b = []\n",
    "print(a.sort())\n",
    "b = a.sort()\n",
    "print(a)\n",
    "print(b)"
   ]
  },
  {
   "cell_type": "code",
   "execution_count": 11,
   "metadata": {},
   "outputs": [
    {
     "name": "stdout",
     "output_type": "stream",
     "text": [
      "[2, 5, 7, 1]\n",
      "[1, 2, 5, 7]\n"
     ]
    }
   ],
   "source": [
    "a = [2, 5, 7, 1]\n",
    "b = sorted(a)\n",
    "print(a)\n",
    "print(b)"
   ]
  },
  {
   "cell_type": "code",
   "execution_count": 13,
   "metadata": {},
   "outputs": [
    {
     "name": "stdout",
     "output_type": "stream",
     "text": [
      "ABCDEF\n",
      "True\n",
      "False\n",
      "8\n"
     ]
    }
   ],
   "source": [
    "text = \"ABCDEFGH\"\n",
    "print(text[0:6])\n",
    "print(\"EFG\" in text)\n",
    "print(\"ABBC\" in text)\n",
    "print(len(text))"
   ]
  },
  {
   "cell_type": "code",
   "execution_count": null,
   "metadata": {},
   "outputs": [],
   "source": [
    "text = \"ABCDEFGH\"\n",
    "text[0:2] = \"CCC\" "
   ]
  },
  {
   "cell_type": "code",
   "execution_count": 16,
   "metadata": {},
   "outputs": [
    {
     "name": "stdout",
     "output_type": "stream",
     "text": [
      "CDE is at position: 2\n",
      "CDE is at position: 8\n",
      "The last C is at position: 8\n"
     ]
    }
   ],
   "source": [
    "string = \"ABCDEDCBCDEA\"\n",
    "index = string.find(\"CDE\")\n",
    "print(\"CDE is at position:\", index)\n",
    "index = string.rfind(\"CDE\")\n",
    "print(\"CDE is at position:\", index)\n",
    "index = string.rfind('C')\n",
    "print(\"The last C is at position:\", index)"
   ]
  },
  {
   "cell_type": "code",
   "execution_count": 17,
   "metadata": {},
   "outputs": [
    {
     "name": "stdout",
     "output_type": "stream",
     "text": [
      "27 .      My name is Python      .\n",
      "22 .      My name is Python .\n",
      "22 . My name is Python      .\n",
      "17 . My name is Python .\n"
     ]
    }
   ],
   "source": [
    "s = \"     My name is Python     \"\n",
    "print(len(s), \".\", s, \".\")\n",
    "print(len(s.rstrip()), \".\", s.rstrip(), \".\")\n",
    "print(len(s.lstrip()), \".\", s.lstrip(), \".\")\n",
    "print(len(s.strip()), \".\", s.strip(),\".\")"
   ]
  },
  {
   "cell_type": "code",
   "execution_count": 20,
   "metadata": {},
   "outputs": [
    {
     "name": "stdout",
     "output_type": "stream",
     "text": [
      "['My', 'name', 'is', 'Python']\n",
      "['M', 'y', ' ', 'n', 'a', 'm', 'e', ' ', 'i', 's', ' ', 'P', 'y', 't', 'h', 'o', 'n']\n"
     ]
    }
   ],
   "source": [
    "string = \"My name is Python\"\n",
    "words = string.split(\" \")\n",
    "print(words)\n",
    "\n",
    "letters = list(string) # a tuple of character converted into a list\n",
    "print(letters)"
   ]
  },
  {
   "cell_type": "code",
   "execution_count": 21,
   "metadata": {},
   "outputs": [
    {
     "name": "stdout",
     "output_type": "stream",
     "text": [
      "['My', 'name', 'is', 'Python']\n",
      "My|name|is|Python\n"
     ]
    }
   ],
   "source": [
    "string = \"My name is Python\"\n",
    "words = string.split(\" \")\n",
    "print(words)\n",
    "print(\"|\".join(words))"
   ]
  },
  {
   "cell_type": "code",
   "execution_count": 22,
   "metadata": {},
   "outputs": [
    {
     "name": "stdout",
     "output_type": "stream",
     "text": [
      "Python3.6\n"
     ]
    }
   ],
   "source": [
    "language = \"Python\"\n",
    "version = 3.6\n",
    "print(language + str(version))"
   ]
  },
  {
   "cell_type": "code",
   "execution_count": 23,
   "metadata": {},
   "outputs": [
    {
     "name": "stdout",
     "output_type": "stream",
     "text": [
      "{1, 2, 3}\n",
      "set()\n"
     ]
    }
   ],
   "source": [
    "l = [1, 2, 3, 2, 3] # list of 5 values\n",
    "s = set(l) # set of 3 unique values\n",
    "print(s)\n",
    "e = set() # empty set\n",
    "print(e)"
   ]
  },
  {
   "cell_type": "code",
   "execution_count": 24,
   "metadata": {},
   "outputs": [
    {
     "name": "stdout",
     "output_type": "stream",
     "text": [
      "{1, 2, 3}\n",
      "number in set: 3\n",
      "{1, 2, 3, 4}\n",
      "{1, 2, 3, 4}\n"
     ]
    }
   ],
   "source": [
    "s = set([1, 2, 3, 2, 3])\n",
    "print(s)\n",
    "print(\"number in set:\", len(s))\n",
    "s.add(4)\n",
    "print(s)\n",
    "s.add(3)\n",
    "print(s)"
   ]
  },
  {
   "cell_type": "code",
   "execution_count": 25,
   "metadata": {},
   "outputs": [
    {
     "name": "stdout",
     "output_type": "stream",
     "text": [
      "{1, 2, 3}\n",
      "{1, 2}\n"
     ]
    }
   ],
   "source": [
    "s = set([1, 2, 3, 2, 3])\n",
    "print(s)\n",
    "s.remove(3)\n",
    "print(s)"
   ]
  },
  {
   "cell_type": "code",
   "execution_count": 26,
   "metadata": {},
   "outputs": [
    {
     "name": "stdout",
     "output_type": "stream",
     "text": [
      "Union: {2, 4, 5, 6, 7, 8, 10}\n",
      "Intersection: {4, 6}\n"
     ]
    }
   ],
   "source": [
    "s1 = set([2, 4, 6, 8, 10])\n",
    "s2 = set([4, 5, 6, 7])\n",
    "\n",
    "print(\"Union:\", s1 | s2)\n",
    "print(\"Intersection:\", s1 & s2)"
   ]
  },
  {
   "cell_type": "code",
   "execution_count": 27,
   "metadata": {},
   "outputs": [
    {
     "name": "stdout",
     "output_type": "stream",
     "text": [
      "{'A': 'Cricket', 'B': 'Football', 'C': 'Hockey', 'D': 'Badminton'}\n"
     ]
    },
    {
     "data": {
      "text/plain": [
       "'Hockey'"
      ]
     },
     "execution_count": 27,
     "metadata": {},
     "output_type": "execute_result"
    }
   ],
   "source": [
    "sports = {\"A\": \"Cricket\", \"B\": \"Football\", \"C\": \"Hockey\", \"D\": \"Badminton\"}\n",
    "print(sports)\n",
    "\n",
    "sports['C']"
   ]
  },
  {
   "cell_type": "code",
   "execution_count": 28,
   "metadata": {},
   "outputs": [
    {
     "name": "stdout",
     "output_type": "stream",
     "text": [
      "A represents Cricket\n"
     ]
    },
    {
     "ename": "KeyError",
     "evalue": "'G'",
     "output_type": "error",
     "traceback": [
      "\u001b[1;31m---------------------------------------------------------------------------\u001b[0m",
      "\u001b[1;31mKeyError\u001b[0m                                  Traceback (most recent call last)",
      "\u001b[1;32m<ipython-input-28-984bf57fec29>\u001b[0m in \u001b[0;36m<module>\u001b[1;34m\u001b[0m\n\u001b[0;32m      1\u001b[0m \u001b[0msports\u001b[0m \u001b[1;33m=\u001b[0m \u001b[1;33m{\u001b[0m\u001b[1;34m\"A\"\u001b[0m\u001b[1;33m:\u001b[0m \u001b[1;34m\"Cricket\"\u001b[0m\u001b[1;33m,\u001b[0m \u001b[1;34m\"B\"\u001b[0m\u001b[1;33m:\u001b[0m \u001b[1;34m\"Football\"\u001b[0m\u001b[1;33m,\u001b[0m \u001b[1;34m\"C\"\u001b[0m\u001b[1;33m:\u001b[0m \u001b[1;34m\"Hockey\"\u001b[0m\u001b[1;33m,\u001b[0m \u001b[1;34m\"D\"\u001b[0m\u001b[1;33m:\u001b[0m \u001b[1;34m\"Badminton\"\u001b[0m\u001b[1;33m}\u001b[0m\u001b[1;33m\u001b[0m\u001b[1;33m\u001b[0m\u001b[0m\n\u001b[0;32m      2\u001b[0m \u001b[0mprint\u001b[0m\u001b[1;33m(\u001b[0m\u001b[1;34m\"A represents\"\u001b[0m\u001b[1;33m,\u001b[0m \u001b[0msports\u001b[0m\u001b[1;33m[\u001b[0m\u001b[1;34m\"A\"\u001b[0m\u001b[1;33m]\u001b[0m\u001b[1;33m)\u001b[0m\u001b[1;33m\u001b[0m\u001b[1;33m\u001b[0m\u001b[0m\n\u001b[1;32m----> 3\u001b[1;33m \u001b[0mprint\u001b[0m\u001b[1;33m(\u001b[0m\u001b[1;34m\"G represents\"\u001b[0m\u001b[1;33m,\u001b[0m \u001b[0msports\u001b[0m\u001b[1;33m[\u001b[0m\u001b[1;34m\"G\"\u001b[0m\u001b[1;33m]\u001b[0m\u001b[1;33m)\u001b[0m\u001b[1;33m\u001b[0m\u001b[1;33m\u001b[0m\u001b[0m\n\u001b[0m",
      "\u001b[1;31mKeyError\u001b[0m: 'G'"
     ]
    }
   ],
   "source": [
    "sports = {\"A\": \"Cricket\", \"B\": \"Football\", \"C\": \"Hockey\", \"D\": \"Badminton\"}\n",
    "print(\"A represents\", sports[\"A\"])\n",
    "print(\"G represents\", sports[\"G\"])"
   ]
  },
  {
   "cell_type": "code",
   "execution_count": 29,
   "metadata": {},
   "outputs": [
    {
     "ename": "KeyError",
     "evalue": "'N'",
     "output_type": "error",
     "traceback": [
      "\u001b[1;31m---------------------------------------------------------------------------\u001b[0m",
      "\u001b[1;31mKeyError\u001b[0m                                  Traceback (most recent call last)",
      "\u001b[1;32m<ipython-input-29-ae85c70d3cc0>\u001b[0m in \u001b[0;36m<module>\u001b[1;34m\u001b[0m\n\u001b[0;32m      1\u001b[0m \u001b[0msports\u001b[0m \u001b[1;33m=\u001b[0m \u001b[1;33m{\u001b[0m\u001b[1;34m\"A\"\u001b[0m\u001b[1;33m:\u001b[0m \u001b[1;34m\"Cricket\"\u001b[0m\u001b[1;33m,\u001b[0m \u001b[1;34m\"B\"\u001b[0m\u001b[1;33m:\u001b[0m \u001b[1;34m\"Football\"\u001b[0m\u001b[1;33m,\u001b[0m \u001b[1;34m\"C\"\u001b[0m\u001b[1;33m:\u001b[0m \u001b[1;34m\"Hockey\"\u001b[0m\u001b[1;33m,\u001b[0m \u001b[1;34m\"D\"\u001b[0m\u001b[1;33m:\u001b[0m \u001b[1;34m\"Badminton\"\u001b[0m\u001b[1;33m}\u001b[0m\u001b[1;33m\u001b[0m\u001b[1;33m\u001b[0m\u001b[0m\n\u001b[1;32m----> 2\u001b[1;33m \u001b[0mprint\u001b[0m\u001b[1;33m(\u001b[0m\u001b[1;34m\"What about N?\"\u001b[0m\u001b[1;33m,\u001b[0m \u001b[0msports\u001b[0m\u001b[1;33m[\u001b[0m\u001b[1;34m\"N\"\u001b[0m\u001b[1;33m]\u001b[0m\u001b[1;33m)\u001b[0m\u001b[1;33m\u001b[0m\u001b[1;33m\u001b[0m\u001b[0m\n\u001b[0m",
      "\u001b[1;31mKeyError\u001b[0m: 'N'"
     ]
    }
   ],
   "source": [
    "sports = {\"A\": \"Cricket\", \"B\": \"Football\", \"C\": \"Hockey\", \"D\": \"Badminton\"}\n",
    "print(\"What about N?\", sports[\"N\"])"
   ]
  },
  {
   "cell_type": "code",
   "execution_count": 32,
   "metadata": {},
   "outputs": [
    {
     "name": "stdout",
     "output_type": "stream",
     "text": [
      "What about N? None\n",
      "With a default value: asfasfasf\n"
     ]
    }
   ],
   "source": [
    "sports = {\"A\": \"Cricket\", \"B\": \"Football\", \"C\": \"Hockey\", \"D\": \"Badminton\"}\n",
    "print(\"What about N?\", sports.get(\"N\"))\n",
    "print(\"With a default value:\", sports.get(\"N\", \"asfasfasf\"))"
   ]
  },
  {
   "cell_type": "code",
   "execution_count": 36,
   "metadata": {},
   "outputs": [
    {
     "data": {
      "text/plain": [
       "False"
      ]
     },
     "execution_count": 36,
     "metadata": {},
     "output_type": "execute_result"
    }
   ],
   "source": [
    "sports = {\"A\": \"T\", \"B\": \"Football\", \"C\": \"Hockey\", \"D\": \"BadminTon\"}\n",
    "\"T\" in sports"
   ]
  },
  {
   "cell_type": "code",
   "execution_count": 37,
   "metadata": {},
   "outputs": [
    {
     "data": {
      "text/plain": [
       "True"
      ]
     },
     "execution_count": 37,
     "metadata": {},
     "output_type": "execute_result"
    }
   ],
   "source": [
    "sports = {\"A\": \"Cricket\", \"B\": \"Football\", \"C\": \"Hockey\", \"D\": \"Badminton\"}\n",
    "\"Y\" not in sports"
   ]
  },
  {
   "cell_type": "code",
   "execution_count": 39,
   "metadata": {},
   "outputs": [
    {
     "name": "stdout",
     "output_type": "stream",
     "text": [
      "{'A': 'Cricket', 'B': 'Football', 'C': 'Hockey', 'D': 'Badminton', 'E': 'Kabaddi'}\n"
     ]
    }
   ],
   "source": [
    "sports = {\"A\": \"Cricket\", \"B\": \"Football\", \"C\": \"Hockey\", \"D\": \"Badminton\"}\n",
    "sports['E'] = 'Kabaddi'\n",
    "print(sports)"
   ]
  },
  {
   "cell_type": "code",
   "execution_count": 40,
   "metadata": {},
   "outputs": [
    {
     "name": "stdout",
     "output_type": "stream",
     "text": [
      "{'A': 'Cricket', 'B': 'Football', 'C': 'Hockey', 'D': 'Badminton', 'E': 'Kabaddi', 'F': 'Volley Ball'}\n"
     ]
    }
   ],
   "source": [
    "sports = {\"A\": \"Cricket\", \"B\": \"Football\", \"C\": \"Hockey\", \"D\": \"Badminton\", \"E\": \"Kabaddi\"}\n",
    "sports['F'] = 'Volley Ball'\n",
    "print(sports)"
   ]
  },
  {
   "cell_type": "code",
   "execution_count": 41,
   "metadata": {},
   "outputs": [
    {
     "name": "stdout",
     "output_type": "stream",
     "text": [
      "{'A': 'Cricket', 'B': 'Football', 'C': 'Hockey', 'D': 'Badminton', 'E': 'Kabaddi'}\n"
     ]
    }
   ],
   "source": [
    "sports = {\"A\": \"Cricket\", \"B\": \"Football\", \"C\": \"Hockey\", \"D\": \"Badminton\", \"E\": \"Kabaddi\", 'F': 'Volley Ball'}\n",
    "del sports['F']\n",
    "print(sports)"
   ]
  },
  {
   "cell_type": "code",
   "execution_count": 42,
   "metadata": {},
   "outputs": [
    {
     "name": "stdout",
     "output_type": "stream",
     "text": [
      "['A', 'B', 'C', 'D', 'E']\n"
     ]
    }
   ],
   "source": [
    "sports = {\"A\": \"Cricket\", \"B\": \"Football\", \"C\": \"Hockey\", \"D\": \"Badminton\", \"E\": \"Kabaddi\"}\n",
    "print(list(sports.keys()))"
   ]
  },
  {
   "cell_type": "code",
   "execution_count": 43,
   "metadata": {},
   "outputs": [
    {
     "name": "stdout",
     "output_type": "stream",
     "text": [
      "['Cricket', 'Football', 'Hockey', 'Badminton', 'Kabaddi']\n"
     ]
    }
   ],
   "source": [
    "sports = {\"A\": \"Cricket\", \"B\": \"Football\", \"C\": \"Hockey\", \"D\": \"Badminton\", \"E\": \"Kabaddi\"}\n",
    "print(list(sports.values()))"
   ]
  },
  {
   "cell_type": "code",
   "execution_count": 44,
   "metadata": {},
   "outputs": [
    {
     "name": "stdout",
     "output_type": "stream",
     "text": [
      "[('A', 'Cricket'), ('B', 'Football'), ('C', 'Hockey'), ('D', 'Badminton'), ('E', 'Kabaddi')]\n"
     ]
    }
   ],
   "source": [
    "sports = {\"A\": \"Cricket\", \"B\": \"Football\", \"C\": \"Hockey\", \"D\": \"Badminton\", \"E\": \"Kabaddi\"}\n",
    "print(list(sports.items()))"
   ]
  },
  {
   "cell_type": "code",
   "execution_count": null,
   "metadata": {},
   "outputs": [],
   "source": []
  }
 ],
 "metadata": {
  "kernelspec": {
   "display_name": "Python 3",
   "language": "python",
   "name": "python3"
  },
  "language_info": {
   "codemirror_mode": {
    "name": "ipython",
    "version": 3
   },
   "file_extension": ".py",
   "mimetype": "text/x-python",
   "name": "python",
   "nbconvert_exporter": "python",
   "pygments_lexer": "ipython3",
   "version": "3.7.10"
  }
 },
 "nbformat": 4,
 "nbformat_minor": 1
}
